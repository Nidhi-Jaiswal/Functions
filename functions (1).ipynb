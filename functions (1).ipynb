{
  "nbformat": 4,
  "nbformat_minor": 0,
  "metadata": {
    "colab": {
      "provenance": []
    },
    "kernelspec": {
      "name": "python3",
      "display_name": "Python 3"
    },
    "language_info": {
      "name": "python"
    }
  },
  "cells": [
    {
      "cell_type": "markdown",
      "source": [
        "1 .What is Python, and why is it popular?\n",
        "\n",
        "ANS: Python is a high-level, interpreted programming language known for its simplicity and readability.\n",
        "Ease of Use: Python allows developers to focus on solving problems rather than dealing with complex syntax.\n",
        "Integration with Other Languages: Python can work seamlessly with C, C++, and Java.\n",
        "Growing Demand in the Job Market: Python's use in emerging fields like AI, data science, and automation makes it highly relevant.\n",
        "Strong Community and Resources: Extensive documentation, tutorials, and open-source contributions ensure developers have ample support.\n",
        "\n"
      ],
      "metadata": {
        "id": "ReIB9a9ItMH_"
      }
    },
    {
      "cell_type": "markdown",
      "source": [
        "2.What is an interpreter in Python?\n",
        "\n",
        "ANS: An interpreter in Python is a program that reads, executes, and translates Python code line by line into machine-readable instructions. Unlike compiled languages (e.g., C or C++), where the entire code is translated into machine code before execution, Python's interpreter processes the code at runtime, executing it directly."
      ],
      "metadata": {
        "id": "YS-4iGx3WV6w"
      }
    },
    {
      "cell_type": "markdown",
      "source": [
        "3: What are pre-defined keywords in Python?\n",
        "\n",
        "ANS:Pre-defined keywords in Python are reserved words that have specific meanings and purposes within the Python programming language. These keywords are part of Python's syntax and cannot be used as identifiers, such as variable names, function names, or class names."
      ],
      "metadata": {
        "id": "lEnZX62qWRuW"
      }
    },
    {
      "cell_type": "markdown",
      "source": [
        "4: Can keywords be used as variable names?\n",
        "\n",
        "ANS:No, keywords cannot be used as variable names in Python. Keywords are reserved words that have a special meaning and role in the Python programming language. Using a keyword as a variable name will result in a SyntaxError because it interferes with Python's syntax rules."
      ],
      "metadata": {
        "id": "k5kcpuxaWQ8f"
      }
    },
    {
      "cell_type": "markdown",
      "source": [
        "5:What is mutability in Python?\n",
        "\n",
        "ANS: Mutability in Python refers to whether an object can be modified (changed) after it is created. Objects in Python are classified into two categories based on their mutability:\n",
        "\n",
        "Mutable Objects: Can be modified after creation (e.g., their contents can change).\n",
        "Immutable Objects: Cannot be modified after creation (any change creates a new object).\n",
        "\n",
        "Examples of mutable objects include:\n",
        "Lists (list)\n",
        "Dictionaries (dict)\n",
        "Sets (set)\n",
        "Byte arrays (bytearray)\n",
        "\n",
        "Examples of immutable objects include:\n",
        "Integers (int)\n",
        "Floats (float)\n",
        "Strings (str)\n",
        "Tuples (tuple)\n",
        "Booleans (bool)"
      ],
      "metadata": {
        "id": "Nacl4O6jXxz_"
      }
    },
    {
      "cell_type": "markdown",
      "source": [
        "6: Why are lists mutable, but tuples are immutable?\n",
        "\n",
        "ANS: The reason lists are mutable and tuples are immutable in Python comes down to design decisions and the fundamental nature of these data structures. Python's developers intentionally made this distinction to serve different purposes in programming.\n",
        "\n",
        "**Lists** are designed to hold a collection of items that may need to be updated, changed, or reordered over time. Therefore, mutability allows them to be flexible and efficient for such use cases.\n",
        "\n",
        "**Tuples** are designed for fixed collections of items that should not change during the program's execution. They are used when data needs to be protected from modification.\n",
        "\n",
        "**Lists** are used when you need a dynamic, modifiable collection of items.\n",
        "\n",
        "Example: Managing a to-do list, appending or removing items dynamically.\n",
        "\n",
        "**Tuples** are used when you need an unchanging collection or want to use the object as a dictionary key or set element.\n",
        "\n",
        "Example: Representing coordinates (x, y), or fixed data like days of the week.\n",
        "\n",
        "By keeping tuples immutable and lists mutable, Python ensures that each data structure serves its specific purpose efficiently and reliably."
      ],
      "metadata": {
        "id": "gBy_TGJ9XyCB"
      }
    },
    {
      "cell_type": "markdown",
      "source": [
        "7: What is the difference between “==” and “is” operators in Pytho?\n",
        "\n",
        "ANS: In Python, the == operator and the is operator serve different purposes when comparing objects:\n",
        "\n",
        "1: **==** Operator (Equality Operator):\n",
        "The == operator is used to compare the values of two objects.\n",
        "It checks whether the contents of the objects are equal.\n",
        "The actual object identities (memory locations) are not compared.\n",
        "\n",
        "a = [1, 2, 3]\n",
        "b = [1, 2, 3]\n",
        "\n",
        "print(a == b)  # True: The values (contents) are equal\n",
        "\n",
        "Here, a and b are two different objects (stored in different memory locations), but their contents (values) are the same.\n",
        "\n",
        "2: **is** Operator (Identity Operator):\n",
        "The is operator checks whether two objects have the same identity (i.e., are stored at the same memory location).\n",
        "It compares the object references (not their values).\n",
        "\n",
        "a = [1, 2, 3]\n",
        "b = [1, 2, 3]\n",
        "c = a\n",
        "\n",
        "print(a is b)  # False: Different objects in memory\n",
        "\n",
        "print(a is c)  # True: Both refer to the same object in memory\n",
        "\n",
        "Here, a and b have the same contents but are different objects.\n",
        "c is assigned to a, so both a and c point to the same object."
      ],
      "metadata": {
        "id": "9qH94XJvXyPO"
      }
    },
    {
      "cell_type": "markdown",
      "source": [
        "8: What are logical operators in Python?\n",
        "\n",
        "ANS: Logical operators in Python are used to perform logical operations on Boolean values (True and False). They are typically used to combine conditional statements and determine the outcome of logical expressions.\n",
        "\n",
        "**and**\tReturns True if both operands are True\tx > 5 and x < 10\n",
        "\n",
        "**or**\tReturns True if at least one operand is True\tx > 5 or x < 2\n",
        "\n",
        "**not**\tReverses the Boolean value (logical negation)\tnot(x > 5)"
      ],
      "metadata": {
        "id": "gfdC7_06XyeM"
      }
    },
    {
      "cell_type": "markdown",
      "source": [
        "9:What is type casting in Python?\n",
        "\n",
        "ANS: Type casting in Python refers to the process of converting one data type to another. This is useful when you want to perform operations that require specific data types.\n",
        "\n",
        "Type casting allows flexibility when working with different data types.\n",
        "\n",
        "Implicit casting is automatic and avoids data loss.\n",
        "\n",
        "Explicit casting requires manual intervention and careful handling.\n",
        "\n",
        "Improper type casting (e.g., int(\"abc\")) will raise errors, so ensure valid conversions."
      ],
      "metadata": {
        "id": "PaFAbZENdtMH"
      }
    },
    {
      "cell_type": "markdown",
      "source": [
        "10: What is the difference between implicit and explicit type casting?\n",
        "\n",
        "ANS:\n",
        "**Implicit Type Casting**\n",
        "\n",
        "In implicit type casting, Python automatically converts a smaller data type to a larger data type (e.g., int to float) to avoid data loss.\n",
        "This process is automatic and does not require any manual intervention.\n",
        "\n",
        "**Explicit Type Casting**\n",
        "\n",
        "In explicit type casting, you manually convert a variable from one data type to another using type casting functions.\n",
        "This is necessary when Python does not perform automatic conversion.\n"
      ],
      "metadata": {
        "id": "LvQt5FuVdtPU"
      }
    },
    {
      "cell_type": "markdown",
      "source": [
        "11: What is the purpose of conditional statements in Python?\n",
        "\n",
        "ANS: The purpose of conditional statements in Python is to allow a program to make decisions based on certain conditions. Conditional statements enable the program to execute specific blocks of code when certain conditions are met and skip or ignore others.\n",
        "\n",
        "In simpler terms, conditional statements help control the flow of execution in a program by checking for true or false conditions.\n",
        "\n",
        "**Importance of Conditional Statements **\n",
        "\n",
        "**Decision-Making**: They allow programs to take different actions based on different conditions.\n",
        "\n",
        "**Flexibility**: They make the code dynamic and adaptable to user input or other data.\n",
        "\n",
        "**Program Control**: They control the flow of execution by determining which part of the code will run.\n",
        "\n",
        "Python provides the following conditional statements:\n",
        "\n",
        "**if**: Executes a block of code if a condition is True.\n",
        "\n",
        "**elif (else if)**: Checks additional conditions if the previous conditions are False.\n",
        "\n",
        "**else**: Executes a block of code if all previous conditions are False."
      ],
      "metadata": {
        "id": "gd4NAbPXdtSZ"
      }
    },
    {
      "cell_type": "markdown",
      "source": [
        "12: How does the elif statement work?\n",
        "\n",
        "ANS:elif is used to check additional conditions after an if statement evaluates to False.\n",
        "\n",
        "It allows for more complex decision-making in a program by handling multiple mutually exclusive conditions.\n",
        "\n",
        "By using elif, you can avoid redundant checks and write clearer, more efficient code.\n",
        "\n",
        "Multiple Conditions: elif allows you to check for additional conditions after the initial if statement.\n",
        "\n",
        "Sequential Evaluation: The conditions are evaluated from top to bottom.\n",
        "\n",
        "Execution Flow:\n",
        "If the if condition is True, the corresponding block of code is executed, and the rest of the elif and else blocks are skipped.\n",
        "\n",
        "If the if condition is False, the program evaluates the next elif condition.\n",
        "\n",
        "If none of the elif conditions are True, the else block (if it exists) will be executed.\n",
        "\n",
        "if condition1:\n",
        "    # Code to execute if condition1 is True\n",
        "elif condition2:\n",
        "    # Code to execute if condition2 is True\n",
        "elif condition3:\n",
        "    # Code to execute if condition3 is True\n",
        "else:\n",
        "    # Code to execute if all previous conditions are False"
      ],
      "metadata": {
        "id": "8_lkxWoHdtVO"
      }
    },
    {
      "cell_type": "markdown",
      "source": [
        "13: What is the difference between for and while loops?\n",
        "\n",
        "ANS: In Python, for and while loops are both used to iterate over a sequence (like a list, tuple, or range) or until a certain condition becomes false. However, they differ significantly in their usage and mechanics:\n",
        "\n",
        "for loop: Iterates over a sequence (like a list, tuple, string, or range). When you know beforehand how many times you want to iterate through a sequence.\n",
        "\n",
        "The for loop iterates over each item in the sequence, one at a time.\n",
        "variable takes the value of the current item during each iteration.\n",
        "The loop stops when all items in the sequence have been iterated over.\n",
        "\n",
        "while loop: Repeats a block of code as long as a condition remains True. When the number of iterations is not known beforehand or when you want to continue until a certain condition changes.\n",
        "\n",
        "The while loop continues to execute the block of code as long as the condition is True.\n",
        "The condition is checked before each iteration. If it becomes False, the loop exits.\n",
        "The condition can be anything that evaluates to True or False.\n",
        "\n",
        "**Definition:**\n",
        "\n",
        "for loop: Iterates over items in a sequence.\n",
        "\n",
        "while loop: Continues to iterate until a specified condition becomes false.\n",
        "\n",
        "**Control Variable:**\n",
        "\n",
        "for loop: The loop variable is used to represent each item in the sequence.\n",
        "\n",
        "while loop: The loop variable is a simple condition that may involve one or more variables that are modified during each iteration.\n",
        "\n",
        "**Termination:**\n",
        "\n",
        "for loop: Exits after iterating through the entire sequence.\n",
        "\n",
        "while loop: Exits when the condition becomes False.\n",
        "\n",
        "**Use Cases:**\n",
        "\n",
        "for loop is typically used when you need to repeat a block of code a specific number of times, e.g., iterating over a list.\n",
        "\n",
        "while loop is useful for indefinite iteration until a condition is met, e.g., reading user input until a valid one is given."
      ],
      "metadata": {
        "id": "6DYWzjZKdtYT"
      }
    },
    {
      "cell_type": "markdown",
      "source": [
        "14: Describe a scenario where a while loop is more suitable than a for loop?\n",
        "\n",
        "ANS: A while loop is more suitable in scenarios where the number of iterations is not fixed or unknown beforehand. It is ideal for situations where you need to perform repetitive actions until a specific condition is met. Here’s a scenario where a while loop is the better choice:"
      ],
      "metadata": {
        "id": "S3cXMA91dtbi"
      }
    },
    {
      "cell_type": "code",
      "source": [
        " #1. Write a Python program to print \"Hello, World!\n",
        " #ANS:\n",
        " print(\" Hello, World!\")"
      ],
      "metadata": {
        "colab": {
          "base_uri": "https://localhost:8080/"
        },
        "id": "WxZv_4b8drJu",
        "outputId": "d99b1b33-20cc-41f7-acbc-6c196bb8820e"
      },
      "execution_count": null,
      "outputs": [
        {
          "output_type": "stream",
          "name": "stdout",
          "text": [
            " Hello, World!\n"
          ]
        }
      ]
    },
    {
      "cell_type": "code",
      "source": [
        "#2. Write a Python program that displays your name and age.\n",
        "# ANS:\n",
        "print(\" My name is Nidhi Jaiswal and my age is 23\")"
      ],
      "metadata": {
        "colab": {
          "base_uri": "https://localhost:8080/"
        },
        "id": "2FApVHeldrM8",
        "outputId": "17d99e3a-665a-4d4c-81ef-46a5a4aedddc"
      },
      "execution_count": null,
      "outputs": [
        {
          "output_type": "stream",
          "name": "stdout",
          "text": [
            " My name is Nidhi Jaiswal and my age is 23\n"
          ]
        }
      ]
    },
    {
      "cell_type": "code",
      "source": [
        "#3. Write code to print all the pre-defined keywords in Python using the keyword library?\n",
        "#ANS:\n",
        "help('keywords') # one way\n",
        "\n",
        "import keyword  #another way\n",
        "\n",
        "keywords = keyword.kwlist\n",
        "\n",
        "print(\"Pre-defined keywords in Python:\")\n",
        "for kw in keywords:\n",
        "    print(kw)"
      ],
      "metadata": {
        "colab": {
          "base_uri": "https://localhost:8080/"
        },
        "id": "trnU8BqAdrQO",
        "outputId": "713b427f-d17c-4941-eaa2-c626171382ab"
      },
      "execution_count": null,
      "outputs": [
        {
          "output_type": "stream",
          "name": "stdout",
          "text": [
            "\n",
            "Here is a list of the Python keywords.  Enter any keyword to get more help.\n",
            "\n",
            "False               class               from                or\n",
            "None                continue            global              pass\n",
            "True                def                 if                  raise\n",
            "and                 del                 import              return\n",
            "as                  elif                in                  try\n",
            "assert              else                is                  while\n",
            "async               except              lambda              with\n",
            "await               finally             nonlocal            yield\n",
            "break               for                 not                 \n",
            "\n",
            "Pre-defined keywords in Python:\n",
            "False\n",
            "None\n",
            "True\n",
            "and\n",
            "as\n",
            "assert\n",
            "async\n",
            "await\n",
            "break\n",
            "class\n",
            "continue\n",
            "def\n",
            "del\n",
            "elif\n",
            "else\n",
            "except\n",
            "finally\n",
            "for\n",
            "from\n",
            "global\n",
            "if\n",
            "import\n",
            "in\n",
            "is\n",
            "lambda\n",
            "nonlocal\n",
            "not\n",
            "or\n",
            "pass\n",
            "raise\n",
            "return\n",
            "try\n",
            "while\n",
            "with\n",
            "yield\n"
          ]
        }
      ]
    },
    {
      "cell_type": "code",
      "source": [
        "#4. Write a program that checks if a given word is a Python keyword?\n",
        "#ANS:\n",
        "import keyword\n",
        "\n",
        "keywords = keyword.kwlist\n",
        "word=input(\"please enter one word\")\n",
        "if word in keywords:\n",
        "  print(word, \"is one of the python keywords\")\n",
        "else:\n",
        "  print(\"given word is not keyword\")"
      ],
      "metadata": {
        "colab": {
          "base_uri": "https://localhost:8080/"
        },
        "id": "0nldkmrvdrS_",
        "outputId": "5c70080a-63ec-48b9-960b-1d5d67f84b4f"
      },
      "execution_count": null,
      "outputs": [
        {
          "output_type": "stream",
          "name": "stdout",
          "text": [
            "please enter one wordif\n",
            "if is one of the python keywords\n"
          ]
        }
      ]
    },
    {
      "cell_type": "code",
      "source": [
        "#5. Create a list and tuple in Python, and demonstrate how attempting to change an element works differently for each?\n",
        "#ANS:\n",
        "list1= [\"apple\", \"banana\", \"guava\", \"mango\"]\n",
        "list1[0]=\"grapes\"\n",
        "print(list1)\n",
        "\n",
        "tup1= (\"apple\", \"banana\", \"guava\", \"mango\")\n",
        "#tup1[0]=\"grapes\" #tuple' object does not support item assignment\n",
        "list2=list(tup1)  # hence we need to convert it into the list first then to the modification as requiered\n",
        "list2[0]=\"grapes\"\n",
        "tup1=tuple(list2)\n",
        "print(tup1)"
      ],
      "metadata": {
        "colab": {
          "base_uri": "https://localhost:8080/"
        },
        "id": "Lxou2NfSdrVs",
        "outputId": "c16e3230-241c-4aef-e8c6-a42fa29a58e1"
      },
      "execution_count": null,
      "outputs": [
        {
          "output_type": "stream",
          "name": "stdout",
          "text": [
            "['grapes', 'banana', 'guava', 'mango']\n",
            "('grapes', 'banana', 'guava', 'mango')\n"
          ]
        }
      ]
    },
    {
      "cell_type": "code",
      "source": [
        "#6. Write a function to demonstrate the behavior of mutable and immutable arguments?\n",
        "#ANS:\n",
        "def modify_arguments(immutable_arg, mutable_arg):\n",
        "\n",
        "    immutable_arg += 10\n",
        "    print(f\"Inside function (immutable_arg): {immutable_arg}\")\n",
        "\n",
        "    mutable_arg.append(10)\n",
        "    print(f\"Inside function (mutable_arg): {mutable_arg}\")\n",
        "\n",
        "num = 5\n",
        "numbers = [1, 2, 3]\n",
        "\n",
        "print(f\"Before function call (num): {num}\")\n",
        "print(f\"Before function call (numbers): {numbers}\")\n",
        "\n",
        "modify_arguments(num, numbers)\n",
        "\n",
        "print(f\"After function call (num): {num}\")\n",
        "print(f\"After function call (numbers): {numbers}\")"
      ],
      "metadata": {
        "id": "bQheY-1BdrYU",
        "colab": {
          "base_uri": "https://localhost:8080/"
        },
        "outputId": "5179bc7b-1ac8-4440-8ca2-8ff5b87d2e94"
      },
      "execution_count": 7,
      "outputs": [
        {
          "output_type": "stream",
          "name": "stdout",
          "text": [
            "Before function call (num): 5\n",
            "Before function call (numbers): [1, 2, 3]\n",
            "Inside function (immutable_arg): 15\n",
            "Inside function (mutable_arg): [1, 2, 3, 10]\n",
            "After function call (num): 5\n",
            "After function call (numbers): [1, 2, 3, 10]\n"
          ]
        }
      ]
    },
    {
      "cell_type": "code",
      "source": [
        "#7. Write a program to demonstrate the use of logical operators?\n",
        "#ANS:\n",
        "age = int(input(\"Enter your age: \"))\n",
        "income = int(input(\"Enter your monthly income: \"))\n",
        "\n",
        "if age >= 18 and income >= 5000:\n",
        "    print(\"You are eligible for a loan.\")\n",
        "else:\n",
        "    print(\"You are not eligible for a loan.\")\n",
        "\n",
        "if age < 18 or income < 5000:\n",
        "    print(\"You may qualify for a special program.\")\n",
        "else:\n",
        "    print(\"You do not qualify for the special program.\")\n",
        "\n",
        "is_student = input(\"Are you a student? (yes/no): \").lower() == \"yes\"\n",
        "\n",
        "if not is_student:\n",
        "    print(\"You are not a student.\")\n",
        "else:\n",
        "    print(\"You are a student.\")"
      ],
      "metadata": {
        "id": "shSlo2oIdra-",
        "colab": {
          "base_uri": "https://localhost:8080/"
        },
        "outputId": "bc24b315-1673-4dff-bd02-e21b6fbb629c"
      },
      "execution_count": 5,
      "outputs": [
        {
          "output_type": "stream",
          "name": "stdout",
          "text": [
            "Enter your age: 24\n",
            "Enter your monthly income: 15000\n",
            "You are eligible for a loan.\n",
            "You do not qualify for the special program.\n",
            "Are you a student? (yes/no): no\n",
            "You are not a student.\n"
          ]
        }
      ]
    },
    {
      "cell_type": "code",
      "source": [
        "#8. Write a Python program to convert user input from string to integer, float, and boolean types?\n",
        "#ANS:\n",
        "user_input = input(\"Enter a value: \")\n",
        "\n",
        "try:\n",
        "    int_value = int(user_input)\n",
        "    print(f\"Integer conversion: {int_value}\")\n",
        "except ValueError:\n",
        "    print(\"Cannot convert to integer.\")\n",
        "\n",
        "# Convert to float\n",
        "try:\n",
        "    float_value = float(user_input)\n",
        "    print(f\"Float conversion: {float_value}\")\n",
        "except ValueError:\n",
        "    print(\"Cannot convert to float.\")\n",
        "\n",
        "# Convert to boolean\n",
        "bool_value = bool(user_input)\n",
        "print(f\"Boolean conversion: {bool_value} (Note: Any non-empty input is True)\")"
      ],
      "metadata": {
        "id": "-cXWgzYadrea",
        "colab": {
          "base_uri": "https://localhost:8080/"
        },
        "outputId": "9f3260ef-b88a-40a3-e891-ce37be738fda"
      },
      "execution_count": 6,
      "outputs": [
        {
          "output_type": "stream",
          "name": "stdout",
          "text": [
            "Enter a value: nidhi\n",
            "Cannot convert to integer.\n",
            "Cannot convert to float.\n",
            "Boolean conversion: True (Note: Any non-empty input is True)\n"
          ]
        }
      ]
    },
    {
      "cell_type": "code",
      "source": [
        "#9: Write code to demonstrate type casting with list elements?\n",
        "#ANS:\n",
        "mixed_list = [\"1\", \"2\", \"3\", \"4.5\", \"5.5\", \"6\"]\n",
        "\n",
        "int_list = []\n",
        "float_list = []\n",
        "\n",
        "for element in mixed_list:\n",
        "\n",
        "    if \".\" not in element:\n",
        "        int_list.append(int(element))\n",
        "    else:\n",
        "        float_list.append(float(element))\n",
        "\n",
        "print(\"Original List:\", mixed_list)\n",
        "print(\"Integer List:\", int_list)\n",
        "print(\"Float List:\", float_list)"
      ],
      "metadata": {
        "id": "OGNrTmufx-zB",
        "colab": {
          "base_uri": "https://localhost:8080/"
        },
        "outputId": "c0ce8d05-ead7-4252-8b3a-6b991fad00fc"
      },
      "execution_count": 4,
      "outputs": [
        {
          "output_type": "stream",
          "name": "stdout",
          "text": [
            "Original List: ['1', '2', '3', '4.5', '5.5', '6']\n",
            "Integer List: [1, 2, 3, 6]\n",
            "Float List: [4.5, 5.5]\n"
          ]
        }
      ]
    },
    {
      "cell_type": "code",
      "source": [
        "#10: Write a program that checks if a number is positive, negative, or zero?\n",
        "#ANS:\n",
        "number=int(input(\"Please enter the number to check it's nature\"))\n",
        "if number < 0:\n",
        "  print(\"the given number is negative\")\n",
        "elif number > 0:\n",
        "  print(\"the given number is positive\")\n",
        "else:\n",
        "  print(\"the given number is zero\")"
      ],
      "metadata": {
        "colab": {
          "base_uri": "https://localhost:8080/"
        },
        "id": "dWl6ojMyx_BW",
        "outputId": "e6edde62-5a03-4939-8d60-52a10a61561d"
      },
      "execution_count": null,
      "outputs": [
        {
          "output_type": "stream",
          "name": "stdout",
          "text": [
            "Please enter the number to check it's nature-1\n",
            "the given number is negative\n"
          ]
        }
      ]
    },
    {
      "cell_type": "code",
      "source": [
        "#11: Write a for loop to print numbers from 1 to 100?\n",
        "#ANS:\n",
        "for i in range(1,101):\n",
        "  print(i)\n",
        "  i=i+1\n"
      ],
      "metadata": {
        "colab": {
          "base_uri": "https://localhost:8080/"
        },
        "id": "ANsklB5Mx_Pk",
        "outputId": "a274ad8a-1e13-4d2f-d6aa-e947acb7ab9f"
      },
      "execution_count": null,
      "outputs": [
        {
          "output_type": "stream",
          "name": "stdout",
          "text": [
            "1\n",
            "2\n",
            "3\n",
            "4\n",
            "5\n",
            "6\n",
            "7\n",
            "8\n",
            "9\n",
            "10\n",
            "11\n",
            "12\n",
            "13\n",
            "14\n",
            "15\n",
            "16\n",
            "17\n",
            "18\n",
            "19\n",
            "20\n",
            "21\n",
            "22\n",
            "23\n",
            "24\n",
            "25\n",
            "26\n",
            "27\n",
            "28\n",
            "29\n",
            "30\n",
            "31\n",
            "32\n",
            "33\n",
            "34\n",
            "35\n",
            "36\n",
            "37\n",
            "38\n",
            "39\n",
            "40\n",
            "41\n",
            "42\n",
            "43\n",
            "44\n",
            "45\n",
            "46\n",
            "47\n",
            "48\n",
            "49\n",
            "50\n",
            "51\n",
            "52\n",
            "53\n",
            "54\n",
            "55\n",
            "56\n",
            "57\n",
            "58\n",
            "59\n",
            "60\n",
            "61\n",
            "62\n",
            "63\n",
            "64\n",
            "65\n",
            "66\n",
            "67\n",
            "68\n",
            "69\n",
            "70\n",
            "71\n",
            "72\n",
            "73\n",
            "74\n",
            "75\n",
            "76\n",
            "77\n",
            "78\n",
            "79\n",
            "80\n",
            "81\n",
            "82\n",
            "83\n",
            "84\n",
            "85\n",
            "86\n",
            "87\n",
            "88\n",
            "89\n",
            "90\n",
            "91\n",
            "92\n",
            "93\n",
            "94\n",
            "95\n",
            "96\n",
            "97\n",
            "98\n",
            "99\n",
            "100\n"
          ]
        }
      ]
    },
    {
      "cell_type": "code",
      "source": [
        "#12: Write a Python program to find the sum of all even numbers between 1 and 500\n",
        "#ANS:\n",
        "list1=[]\n",
        "\n",
        "for i in range(1, 501):\n",
        "  if i%2==0:\n",
        "      list1.append(i)\n",
        "total=sum(list1)\n",
        "print(\"The sum of all even numbers between 1 and 500 is:\",total)\n"
      ],
      "metadata": {
        "colab": {
          "base_uri": "https://localhost:8080/"
        },
        "id": "j31W3o-H3UjB",
        "outputId": "58e32cc8-d7f3-4b39-fc2d-1ea5851210af"
      },
      "execution_count": null,
      "outputs": [
        {
          "output_type": "stream",
          "name": "stdout",
          "text": [
            "The sum of all even numbers between 1 and 500 is: 62750\n"
          ]
        }
      ]
    },
    {
      "cell_type": "code",
      "source": [
        "#13: Write a program to reverse a string using a while loop?\n",
        "#ANS\n",
        "string = input(\"Enter a string to reverse: \")\n",
        "\n",
        "reversed_string = \"\"\n",
        "i = len(string) - 1\n",
        "\n",
        "while i >= 0:\n",
        "    reversed_string += string[i]\n",
        "    i -= 1\n",
        "print(\"The reversed string is:\", reversed_string)"
      ],
      "metadata": {
        "id": "OJ82QkX3yalr",
        "colab": {
          "base_uri": "https://localhost:8080/"
        },
        "outputId": "4d1f6aee-ce34-48a6-c34d-24d818ce1b15"
      },
      "execution_count": 2,
      "outputs": [
        {
          "output_type": "stream",
          "name": "stdout",
          "text": [
            "Enter a string to reverse: nidhi\n",
            "The reversed string is: ihdin\n"
          ]
        }
      ]
    },
    {
      "cell_type": "code",
      "source": [
        "#14: Write a Python program to calculate the factorial of a number provided by the user using a while loop?\n",
        "#ANS:\n",
        "number=int(input(\"enter the number which you want to find the factorial of: \"))\n",
        "factorial=1\n",
        "i=1\n",
        "while i<= number:\n",
        "  factorial=i*factorial\n",
        "  i=i+1\n",
        "print(f\"The factorial of {number} is: {factorial}\")"
      ],
      "metadata": {
        "colab": {
          "base_uri": "https://localhost:8080/"
        },
        "id": "y4CvuBz5ybNX",
        "outputId": "1bae7bfc-83e7-402f-de1e-8182f151f11e"
      },
      "execution_count": null,
      "outputs": [
        {
          "output_type": "stream",
          "name": "stdout",
          "text": [
            "enter the number which you want to find the factorial of: 5\n",
            "The factorial of 5 is: 120\n"
          ]
        }
      ]
    }
  ]
}